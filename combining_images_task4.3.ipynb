{
 "cells": [
  {
   "cell_type": "code",
   "execution_count": 4,
   "metadata": {},
   "outputs": [],
   "source": [
    "# to combine 2 images to single image\n",
    "import cv2 \n",
    "import numpy as np\n",
    "# read first image\n",
    "image1 = cv2.imread(\"img2.jpg\")\n",
    "# read second image\n",
    "image2 = cv2.imread(\"new1.jpg\")\n",
    "# to display both images\n",
    "cv2.imshow(\"first\",image1)\n",
    "cv2.imshow(\"second\",image2)\n",
    "cv2.waitKey()\n",
    "cv2.destroyAllWindows()    \n",
    "#shape of img1\n",
    "image1.shape\n",
    "#shape of img 2\n",
    "image2.shape"
   ]
  },
  {
   "cell_type": "code",
   "execution_count": 5,
   "metadata": {},
   "outputs": [],
   "source": [
    "# to resize both the images\n",
    "img1 = cv2.resize(image1,(0,0),None,0.5,0.5)\n",
    "img2 = cv2.resize(image2,(0,0),None,0.5,0.5)\n"
   ]
  },
  {
   "cell_type": "code",
   "execution_count": 6,
   "metadata": {},
   "outputs": [],
   "source": [
    "# to combine photos horizontally \n",
    "H=np.hstack((img1,img2))\n",
    "cv2.imshow(\"combine\",H)\n",
    "cv2.waitKey()\n",
    "cv2.destroyAllWindows()    "
   ]
  },
  {
   "cell_type": "code",
   "execution_count": null,
   "metadata": {},
   "outputs": [],
   "source": []
  },
  {
   "cell_type": "code",
   "execution_count": null,
   "metadata": {},
   "outputs": [],
   "source": []
  }
 ],
 "metadata": {
  "kernelspec": {
   "display_name": "Python 3",
   "language": "python",
   "name": "python3"
  },
  "language_info": {
   "codemirror_mode": {
    "name": "ipython",
    "version": 3
   },
   "file_extension": ".py",
   "mimetype": "text/x-python",
   "name": "python",
   "nbconvert_exporter": "python",
   "pygments_lexer": "ipython3",
   "version": "3.8.3"
  }
 },
 "nbformat": 4,
 "nbformat_minor": 4
}
