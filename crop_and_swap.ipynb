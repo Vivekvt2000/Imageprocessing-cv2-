{
 "cells": [
  {
   "cell_type": "code",
   "execution_count": 1,
   "metadata": {},
   "outputs": [],
   "source": [
    "#cropping some part of images and swapping it( task 4.2)\n",
    "import cv2\n",
    "# reading image 1\n",
    "image1=cv2.imread(\"img2.jpg\")   \n",
    "#reading image 2\n",
    "image2=cv2.imread(\"new1.jpg\")\n",
    "# to open both photos \n",
    "cv2.imshow(\"im_tom\",image1)\n",
    "cv2.imshow(\"im_jerry\",image2)\n",
    "cv2.waitKey()\n",
    "cv2.destroyAllWindows()"
   ]
  },
  {
   "cell_type": "code",
   "execution_count": 2,
   "metadata": {},
   "outputs": [],
   "source": [
    "#Crop nad swap part of image 1 to image 2\n",
    "#cropping img 1\n",
    "crop_img= image1[500:920,300:1000]\n",
    "#swapping cropped part of img1 to img2\n",
    "image2[500:920,300:1000]=crop_img\n",
    "cv2.imshow(\"crop\",image2)\n",
    "cv2.waitKey()\n",
    "cv2.destroyAllWindows()    "
   ]
  },
  {
   "cell_type": "code",
   "execution_count": 5,
   "metadata": {},
   "outputs": [],
   "source": [
    "#Crop nad swap part of image 2 to image 1\n",
    "#cropping img 2\n",
    "crop_img2= image2[500:920,300:1000]\n",
    "#swapping cropped part of img1 to img2\n",
    "image1[500:920,300:1000]=crop_img2\n",
    "cv2.imshow(\"crop\",image1)\n",
    "cv2.waitKey()\n",
    "cv2.destroyAllWindows()    "
   ]
  },
  {
   "cell_type": "code",
   "execution_count": null,
   "metadata": {},
   "outputs": [],
   "source": []
  }
 ],
 "metadata": {
  "kernelspec": {
   "display_name": "Python 3",
   "language": "python",
   "name": "python3"
  },
  "language_info": {
   "codemirror_mode": {
    "name": "ipython",
    "version": 3
   },
   "file_extension": ".py",
   "mimetype": "text/x-python",
   "name": "python",
   "nbconvert_exporter": "python",
   "pygments_lexer": "ipython3",
   "version": "3.8.3"
  }
 },
 "nbformat": 4,
 "nbformat_minor": 4
}
